{
 "cells": [
  {
   "cell_type": "code",
   "execution_count": 1,
   "id": "b1875117",
   "metadata": {},
   "outputs": [
    {
     "name": "stdout",
     "output_type": "stream",
     "text": [
      "Hello Vikash\n"
     ]
    }
   ],
   "source": [
    "print(\"Hello Vikash\")"
   ]
  },
  {
   "cell_type": "code",
   "execution_count": 2,
   "id": "e85e3108",
   "metadata": {},
   "outputs": [
    {
     "data": {
      "text/plain": [
       "40"
      ]
     },
     "execution_count": 2,
     "metadata": {},
     "output_type": "execute_result"
    }
   ],
   "source": [
    "25+15\n"
   ]
  },
  {
   "cell_type": "code",
   "execution_count": 3,
   "id": "3d4c2d7c",
   "metadata": {},
   "outputs": [
    {
     "data": {
      "text/plain": [
       "121"
      ]
     },
     "execution_count": 3,
     "metadata": {},
     "output_type": "execute_result"
    }
   ],
   "source": [
    "25+96"
   ]
  },
  {
   "cell_type": "code",
   "execution_count": 4,
   "id": "e25dcbc1",
   "metadata": {},
   "outputs": [
    {
     "data": {
      "text/plain": [
       "185"
      ]
     },
     "execution_count": 4,
     "metadata": {},
     "output_type": "execute_result"
    }
   ],
   "source": [
    "89+96"
   ]
  },
  {
   "cell_type": "code",
   "execution_count": null,
   "id": "6fae9a4d",
   "metadata": {},
   "outputs": [],
   "source": []
  }
 ],
 "metadata": {
  "kernelspec": {
   "display_name": "Python 3 (ipykernel)",
   "language": "python",
   "name": "python3"
  },
  "language_info": {
   "codemirror_mode": {
    "name": "ipython",
    "version": 3
   },
   "file_extension": ".py",
   "mimetype": "text/x-python",
   "name": "python",
   "nbconvert_exporter": "python",
   "pygments_lexer": "ipython3",
   "version": "3.11.5"
  }
 },
 "nbformat": 4,
 "nbformat_minor": 5
}
